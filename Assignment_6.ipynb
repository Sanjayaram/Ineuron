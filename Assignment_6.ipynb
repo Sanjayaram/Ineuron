{
 "cells": [
  {
   "cell_type": "markdown",
   "id": "7b3f51ae",
   "metadata": {},
   "source": [
    "1. What are escape characters, and how do you use them?"
   ]
  },
  {
   "cell_type": "code",
   "execution_count": null,
   "id": "53047e6c",
   "metadata": {},
   "outputs": [],
   "source": [
    "In Python strings, the backslash \"\\\" is a special character, also called the \"escape\" character. \n",
    "It is used in representing certain whitespace characters: \"\\t\" is a tab, \"\\n\" is a newline, and \"\\r\" is a carriage return.\n",
    "\n",
    "To insert characters that are illegal in a string, use an escape character.\n",
    "An escape character is a backslash \\ followed by the character you want to insert.\n",
    "An example of an illegal character is a double quote inside a string that is surrounded by double quotes:"
   ]
  },
  {
   "cell_type": "code",
   "execution_count": 2,
   "id": "e02f43c2",
   "metadata": {},
   "outputs": [
    {
     "ename": "SyntaxError",
     "evalue": "invalid syntax (615940315.py, line 2)",
     "output_type": "error",
     "traceback": [
      "\u001b[1;36m  Input \u001b[1;32mIn [2]\u001b[1;36m\u001b[0m\n\u001b[1;33m    We will get an error if we use double quotes inside a string that is surrounded by double quotes:\u001b[0m\n\u001b[1;37m       ^\u001b[0m\n\u001b[1;31mSyntaxError\u001b[0m\u001b[1;31m:\u001b[0m invalid syntax\n"
     ]
    }
   ],
   "source": [
    "#example\n",
    "We will get an error if we use double quotes inside a string that is surrounded by double quotes:\n",
    "txt = \"We are the so-called \"Vikings\" from the north.\""
   ]
  },
  {
   "cell_type": "code",
   "execution_count": 4,
   "id": "3ab72c01",
   "metadata": {},
   "outputs": [
    {
     "name": "stdout",
     "output_type": "stream",
     "text": [
      "We are the so-called \"Vikings\" from the north.\n"
     ]
    }
   ],
   "source": [
    "#To fix this problem, use the escape character \\\":\n",
    "txt = \"We are the so-called \\\"Vikings\\\" from the north.\"\n",
    "print (txt)"
   ]
  },
  {
   "cell_type": "markdown",
   "id": "f573c8ba",
   "metadata": {},
   "source": [
    "2. What do the escape characters n and t stand for?"
   ]
  },
  {
   "cell_type": "code",
   "execution_count": null,
   "id": "5d80d5a1",
   "metadata": {},
   "outputs": [],
   "source": [
    "\"\\t\" is a tab, \"\\n\" is a newline"
   ]
  },
  {
   "cell_type": "code",
   "execution_count": 7,
   "id": "9727a995",
   "metadata": {},
   "outputs": [
    {
     "name": "stdout",
     "output_type": "stream",
     "text": [
      "Hello\n",
      "World!\n",
      "Hello\tWorld!\n"
     ]
    }
   ],
   "source": [
    "txt1 = \"Hello\\nWorld!\"\n",
    "print(txt1) \n",
    "\n",
    "txt2 = \"Hello\\tWorld!\"\n",
    "print(txt2) "
   ]
  },
  {
   "cell_type": "markdown",
   "id": "932f211c",
   "metadata": {},
   "source": [
    "3.What is the way to include backslash character in a string?"
   ]
  },
  {
   "cell_type": "code",
   "execution_count": null,
   "id": "a5e23305",
   "metadata": {},
   "outputs": [],
   "source": [
    "The \\\\ escape character will represent the backslash character in a string"
   ]
  },
  {
   "cell_type": "code",
   "execution_count": 8,
   "id": "7d166c06",
   "metadata": {},
   "outputs": [
    {
     "name": "stdout",
     "output_type": "stream",
     "text": [
      "its a back slash \\ in a line\n"
     ]
    }
   ],
   "source": [
    "#example\n",
    "print('its a back slash \\\\ in a line')"
   ]
  },
  {
   "cell_type": "markdown",
   "id": "a6975854",
   "metadata": {},
   "source": [
    "4. The string \"Howl's Moving Castle\" is a correct value. \n",
    "Why isn't the single quote character in the word Howl's not escaped a problem?"
   ]
  },
  {
   "cell_type": "code",
   "execution_count": null,
   "id": "82353196",
   "metadata": {},
   "outputs": [],
   "source": [
    "The string \"Howl's Moving Castle\" escaped the problem because it is wrapped inside double quotes. \n",
    "If its wrapped inside single quotes then we have to use escape character \\' to show single quote in the final output\n",
    "'Howl\\'s Moving Castle' -> 'Howl's Moving Castle'"
   ]
  },
  {
   "cell_type": "code",
   "execution_count": 10,
   "id": "71687eb0",
   "metadata": {},
   "outputs": [
    {
     "name": "stdout",
     "output_type": "stream",
     "text": [
      "Howl's Moving Castle\n",
      "Its a \"Nice\" Day\n",
      "Howl's Moving Castle\n"
     ]
    }
   ],
   "source": [
    "#single quote inside a double quotes\n",
    "print(\"Howl's Moving Castle\")\n",
    "\n",
    "#double quote inside a single quotes\n",
    "print('Its a \"Nice\" Day')\n",
    "\n",
    "#using escape character to use single inside single quotes\n",
    "print('Howl\\'s Moving Castle')"
   ]
  },
  {
   "cell_type": "markdown",
   "id": "9d2eb5b3",
   "metadata": {},
   "source": [
    "5. How do you write a string of newlines if you don't want to use the n character?"
   ]
  },
  {
   "cell_type": "code",
   "execution_count": null,
   "id": "2df6037c",
   "metadata": {},
   "outputs": [],
   "source": [
    "Multiline string allow you to use newlines in string without the \\n escape character"
   ]
  },
  {
   "cell_type": "code",
   "execution_count": 14,
   "id": "c18fa319",
   "metadata": {},
   "outputs": [
    {
     "name": "stdout",
     "output_type": "stream",
     "text": [
      "iNeuron full stack\n",
      "Awesome Data Science Course\n"
     ]
    }
   ],
   "source": [
    "# Example:\n",
    "a = '''iNeuron full stack\n",
    "Awesome Data Science Course'''\n",
    "print(a)"
   ]
  },
  {
   "cell_type": "markdown",
   "id": "0f670d3b",
   "metadata": {},
   "source": [
    "6. What are the values of the given expressions?"
   ]
  },
  {
   "cell_type": "code",
   "execution_count": 15,
   "id": "db98fce8",
   "metadata": {},
   "outputs": [
    {
     "data": {
      "text/plain": [
       "'e'"
      ]
     },
     "execution_count": 15,
     "metadata": {},
     "output_type": "execute_result"
    }
   ],
   "source": [
    "'Hello, world!'[1]"
   ]
  },
  {
   "cell_type": "code",
   "execution_count": 16,
   "id": "3501efb8",
   "metadata": {},
   "outputs": [
    {
     "data": {
      "text/plain": [
       "'Hello'"
      ]
     },
     "execution_count": 16,
     "metadata": {},
     "output_type": "execute_result"
    }
   ],
   "source": [
    "'Hello, world!'[0:5]"
   ]
  },
  {
   "cell_type": "code",
   "execution_count": 17,
   "id": "6db84b40",
   "metadata": {},
   "outputs": [
    {
     "data": {
      "text/plain": [
       "'Hello'"
      ]
     },
     "execution_count": 17,
     "metadata": {},
     "output_type": "execute_result"
    }
   ],
   "source": [
    "'Hello, world!'[:5]"
   ]
  },
  {
   "cell_type": "code",
   "execution_count": 18,
   "id": "8dd21932",
   "metadata": {},
   "outputs": [
    {
     "data": {
      "text/plain": [
       "'lo, world!'"
      ]
     },
     "execution_count": 18,
     "metadata": {},
     "output_type": "execute_result"
    }
   ],
   "source": [
    "'Hello, world!'[3:]"
   ]
  },
  {
   "cell_type": "code",
   "execution_count": null,
   "id": "5f04e7af",
   "metadata": {},
   "outputs": [],
   "source": [
    "7. What are the values of the following expressions?"
   ]
  },
  {
   "cell_type": "code",
   "execution_count": 19,
   "id": "501a24d9",
   "metadata": {},
   "outputs": [
    {
     "data": {
      "text/plain": [
       "'HELLO'"
      ]
     },
     "execution_count": 19,
     "metadata": {},
     "output_type": "execute_result"
    }
   ],
   "source": [
    "'Hello'.upper()"
   ]
  },
  {
   "cell_type": "code",
   "execution_count": 20,
   "id": "5d8970da",
   "metadata": {},
   "outputs": [
    {
     "data": {
      "text/plain": [
       "True"
      ]
     },
     "execution_count": 20,
     "metadata": {},
     "output_type": "execute_result"
    }
   ],
   "source": [
    "'Hello'.upper().isupper()"
   ]
  },
  {
   "cell_type": "code",
   "execution_count": 21,
   "id": "b939bff7",
   "metadata": {},
   "outputs": [
    {
     "data": {
      "text/plain": [
       "'hello'"
      ]
     },
     "execution_count": 21,
     "metadata": {},
     "output_type": "execute_result"
    }
   ],
   "source": [
    "'Hello'.upper().lower()"
   ]
  },
  {
   "cell_type": "markdown",
   "id": "898297f3",
   "metadata": {},
   "source": [
    "8. What are the values of the following expressions?"
   ]
  },
  {
   "cell_type": "code",
   "execution_count": 22,
   "id": "22c20f2c",
   "metadata": {},
   "outputs": [
    {
     "data": {
      "text/plain": [
       "['Remember,', 'remember,', 'the', 'fifth', 'of', 'July.']"
      ]
     },
     "execution_count": 22,
     "metadata": {},
     "output_type": "execute_result"
    }
   ],
   "source": [
    "'Remember, remember, the fifth of July.'.split()"
   ]
  },
  {
   "cell_type": "code",
   "execution_count": 23,
   "id": "0adfb6d6",
   "metadata": {},
   "outputs": [
    {
     "data": {
      "text/plain": [
       "'There-can-only-one.'"
      ]
     },
     "execution_count": 23,
     "metadata": {},
     "output_type": "execute_result"
    }
   ],
   "source": [
    "'-'.join('There can only one.'.split())"
   ]
  },
  {
   "cell_type": "code",
   "execution_count": null,
   "id": "f15f3f18",
   "metadata": {},
   "outputs": [],
   "source": [
    "9. What are the methods for right-justifying, left-justifying, and centering a string?"
   ]
  },
  {
   "cell_type": "code",
   "execution_count": 25,
   "id": "f4b56a6a",
   "metadata": {},
   "outputs": [
    {
     "data": {
      "text/plain": [
       "'Sant------'"
      ]
     },
     "execution_count": 25,
     "metadata": {},
     "output_type": "execute_result"
    }
   ],
   "source": [
    "# left justified\n",
    "str =\"Sant\"\n",
    "str.ljust(10,\"-\")"
   ]
  },
  {
   "cell_type": "code",
   "execution_count": 26,
   "id": "99dd4a9a",
   "metadata": {},
   "outputs": [
    {
     "data": {
      "text/plain": [
       "'******************************My name is'"
      ]
     },
     "execution_count": 26,
     "metadata": {},
     "output_type": "execute_result"
    }
   ],
   "source": [
    "# right justified\n",
    "str =\"My name is\"\n",
    "str.rjust(40,'*')"
   ]
  },
  {
   "cell_type": "code",
   "execution_count": 27,
   "id": "71beaa11",
   "metadata": {},
   "outputs": [
    {
     "data": {
      "text/plain": [
       "'***************My name is***************'"
      ]
     },
     "execution_count": 27,
     "metadata": {},
     "output_type": "execute_result"
    }
   ],
   "source": [
    "# center justified\n",
    "str =\"My name is\"\n",
    "str.center(40,'*')"
   ]
  },
  {
   "cell_type": "markdown",
   "id": "8d656dae",
   "metadata": {},
   "source": [
    "10. What is the best way to remove whitespace characters from the start or end?"
   ]
  },
  {
   "cell_type": "code",
   "execution_count": 28,
   "id": "b8531ecf",
   "metadata": {},
   "outputs": [
    {
     "data": {
      "text/plain": [
       "'gfgfgfgfgfgfgf yuyuyuuyuy  '"
      ]
     },
     "execution_count": 28,
     "metadata": {},
     "output_type": "execute_result"
    }
   ],
   "source": [
    "str =\"  gfgfgfgfgfgfgf yuyuyuuyuy  \"\n",
    "str.lstrip()"
   ]
  },
  {
   "cell_type": "code",
   "execution_count": 29,
   "id": "118c97a1",
   "metadata": {},
   "outputs": [
    {
     "data": {
      "text/plain": [
       "'  yytytytyyt mmamamam'"
      ]
     },
     "execution_count": 29,
     "metadata": {},
     "output_type": "execute_result"
    }
   ],
   "source": [
    "str =\"  yytytytyyt mmamamam  \"\n",
    "str.rstrip()"
   ]
  },
  {
   "cell_type": "code",
   "execution_count": null,
   "id": "8f0d01d2",
   "metadata": {},
   "outputs": [],
   "source": []
  }
 ],
 "metadata": {
  "kernelspec": {
   "display_name": "Python 3 (ipykernel)",
   "language": "python",
   "name": "python3"
  },
  "language_info": {
   "codemirror_mode": {
    "name": "ipython",
    "version": 3
   },
   "file_extension": ".py",
   "mimetype": "text/x-python",
   "name": "python",
   "nbconvert_exporter": "python",
   "pygments_lexer": "ipython3",
   "version": "3.9.12"
  }
 },
 "nbformat": 4,
 "nbformat_minor": 5
}
