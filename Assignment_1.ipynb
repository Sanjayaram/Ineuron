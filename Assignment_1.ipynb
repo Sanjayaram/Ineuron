{
 "cells": [
  {
   "cell_type": "markdown",
   "id": "28ff0ff6",
   "metadata": {},
   "source": [
    "1. In the below elements which of them are values or an expression? eg:- values can be integer or string and expressions will be mathematical operators."
   ]
  },
  {
   "cell_type": "code",
   "execution_count": null,
   "id": "13e8dbc3",
   "metadata": {},
   "outputs": [],
   "source": [
    "{values: ['hello',-87.8,6] , expression: [*, -,/,+]}"
   ]
  },
  {
   "cell_type": "markdown",
   "id": "f09d677a",
   "metadata": {},
   "source": [
    "2. What is the difference between string and variable?"
   ]
  },
  {
   "cell_type": "code",
   "execution_count": null,
   "id": "902545b3",
   "metadata": {},
   "outputs": [],
   "source": [
    "variables is a kind of entity where we will be able to store data which we can processed during runtime.\n",
    "Example : x=\"sant\" , y=5 , z=[2,3,4,5]\n",
    "\n",
    "string is one of the type of varible which as value in a single or double qutation symbols.\n",
    "Example : \"sant\""
   ]
  },
  {
   "cell_type": "markdown",
   "id": "595acb3c",
   "metadata": {},
   "source": [
    "3. Describe three different data types."
   ]
  },
  {
   "cell_type": "code",
   "execution_count": null,
   "id": "89fef7f3",
   "metadata": {},
   "outputs": [],
   "source": [
    "There are three fundatmental data types.\n",
    "1. int - any whole number is said to be integer which includes positive numbers, negative numbers and zero.\n",
    "    Example: -5,0,10\n",
    "2. float - A floating point number, is a positive or negative whole number with a decimal point.\n",
    "    Example: -1.5,0.05,50.5,100.0\n",
    "3. complex - Complex numbers are the numbers that are expressed in the form of a+ib where, \n",
    "             a,b are real numbers and 'i' is an imaginary number.\n",
    "    Example: 1+2i\n"
   ]
  },
  {
   "cell_type": "markdown",
   "id": "fff39ab7",
   "metadata": {},
   "source": [
    " 4. What is an expression made up of? What do all expressions do?"
   ]
  },
  {
   "cell_type": "code",
   "execution_count": null,
   "id": "7c580d68",
   "metadata": {},
   "outputs": [],
   "source": [
    "these are made up of values and operators to perform certain mathematical/non mathematical opeations based on datatype to get a \n",
    "desired output values following the required rules.\n",
    "Example: \n",
    "    1. 5+5*4 = 25\n",
    "    2. \"sant\" + \"kumar\" = \"santkumar\""
   ]
  },
  {
   "cell_type": "markdown",
   "id": "b3dbda64",
   "metadata": {},
   "source": [
    "5. This assignment statements, like spam = 10. What is the difference between an expression and a statement?"
   ]
  },
  {
   "cell_type": "code",
   "execution_count": null,
   "id": "f4f83cad",
   "metadata": {},
   "outputs": [],
   "source": [
    "statments are like a command in programming language where providing a command to get a \n",
    "certain condition or situation to perform desired operations, it alone does not gives any output values on execution.\n",
    "There are mainly four types of statements in Python, Print statements, Assignment statements, Conditional statements and Looping statements.\n",
    "ex: spam = 10 (is an assignment operation which is not providing any output value but creating a situation \n",
    "    where we can use spam variable to perform required operation for desired output.)\n",
    "\n",
    "\n",
    "An expression is something that can be reduced to a value, for example \"1+3\" is an expression, but \"foo = 1+3\" is not.\n",
    "\n",
    "foo = 1+3 is NOT an expression. It is a statement (an assignment to be precise). The part 1+3 is an expression.\n"
   ]
  },
  {
   "cell_type": "markdown",
   "id": "23e66eca",
   "metadata": {},
   "source": [
    "6. After running the following code, what does the variable bacon contain?\n",
    "bacon = 22\n",
    "bacon + 1\n"
   ]
  },
  {
   "cell_type": "code",
   "execution_count": null,
   "id": "b550bce6",
   "metadata": {},
   "outputs": [],
   "source": [
    "After running the code bacon value dosent change, as we are not reassiging bacon +1 to bacon.\n",
    "so bacon varible will still be having value 22.\n"
   ]
  },
  {
   "cell_type": "markdown",
   "id": "904b44f8",
   "metadata": {},
   "source": [
    "7. What should the values of the following two terms be?\n",
    "'spam' + 'spamspam'\n",
    "'spam' * 3\n"
   ]
  },
  {
   "cell_type": "code",
   "execution_count": null,
   "id": "a2420830",
   "metadata": {},
   "outputs": [],
   "source": [
    "String Concatenation\n",
    "'spam' + 'spamspam' = \"spamspamspam\"\n",
    "\n",
    "String Multiplication\n",
    "'spam' * 3 = \"spamspamspam\""
   ]
  },
  {
   "cell_type": "markdown",
   "id": "9721ede3",
   "metadata": {},
   "source": [
    "8. Why is eggs a valid variable name while 100 is invalid?"
   ]
  },
  {
   "cell_type": "code",
   "execution_count": null,
   "id": "15336669",
   "metadata": {},
   "outputs": [],
   "source": [
    "As per python,Variable names cannot begin with a number. The python rules for naming a variable are :-\n",
    "\n",
    "Variable name must start with a letter or the underscore character.\n",
    "Variable name cannot start with a number.\n",
    "Variable name can only contain alpha-numeric characters and underscores (A-z, 0-9, & _ ).\n",
    "Variable names are case-sensitive (name, GAURAV and gaurav are three different variables).\n",
    "The reserved words(keywords) cannot be used naming the variable.\n",
    "\n",
    "egg=100 # Valid variable Initilization\n",
    "100='hello' # Invalid Variable Initilization\n",
    "print(egg) #prints the value of egg i.e 100\n",
    "print(100) # gives us 100, as 100 is just a value."
   ]
  },
  {
   "cell_type": "markdown",
   "id": "acc86b36",
   "metadata": {},
   "source": [
    "9. What three functions can be used to get the integer, floating-point number, or string version of a value?"
   ]
  },
  {
   "cell_type": "code",
   "execution_count": null,
   "id": "a6957783",
   "metadata": {},
   "outputs": [],
   "source": [
    "to get intergers: int ()\n",
    "Example : int (10.5) gives  10\n",
    "    \n",
    "to get floating-point number: float ()\n",
    "Example : float (10) gives 10.0\n",
    "    \n",
    "to get string: str ()\n",
    "Example : str(10) gives '10'"
   ]
  },
  {
   "cell_type": "markdown",
   "id": "fa4d461c",
   "metadata": {},
   "source": [
    "10. Why does this expression cause an error? How can you fix it?\n",
    "'I have eaten ' + 99 + ' burritos.'"
   ]
  },
  {
   "cell_type": "code",
   "execution_count": null,
   "id": "52ce3004",
   "metadata": {},
   "outputs": [],
   "source": [
    "we can not add strig and integers, they are two different data types.\n",
    "we can do srting concatenation by converting integer 99 to a string.\n",
    "'I have eaten ' + str(99) + ' burritos.' ='I have eaten 99 burritos.'"
   ]
  }
 ],
 "metadata": {
  "kernelspec": {
   "display_name": "Python 3 (ipykernel)",
   "language": "python",
   "name": "python3"
  },
  "language_info": {
   "codemirror_mode": {
    "name": "ipython",
    "version": 3
   },
   "file_extension": ".py",
   "mimetype": "text/x-python",
   "name": "python",
   "nbconvert_exporter": "python",
   "pygments_lexer": "ipython3",
   "version": "3.9.12"
  }
 },
 "nbformat": 4,
 "nbformat_minor": 5
}
