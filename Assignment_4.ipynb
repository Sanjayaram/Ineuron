{
 "cells": [
  {
   "cell_type": "markdown",
   "id": "2dc8add5",
   "metadata": {},
   "source": [
    "1. What exactly is []?"
   ]
  },
  {
   "cell_type": "code",
   "execution_count": null,
   "id": "cd4d8065",
   "metadata": {},
   "outputs": [],
   "source": [
    "The empty list represented by [] is a list that contains no items. This is similar to '' which represents an empty string\n",
    "Empty lists are falsy values, which means that they evaluate to False in a boolean context."
   ]
  },
  {
   "cell_type": "code",
   "execution_count": 1,
   "id": "bad69db7",
   "metadata": {},
   "outputs": [
    {
     "data": {
      "text/plain": [
       "False"
      ]
     },
     "execution_count": 1,
     "metadata": {},
     "output_type": "execute_result"
    }
   ],
   "source": [
    "num =[]\n",
    "bool(num)"
   ]
  },
  {
   "cell_type": "markdown",
   "id": "8eaf172f",
   "metadata": {},
   "source": [
    "2. In a list of values stored in a variable called spam, \n",
    "how would you assign the value 'hello' as the third value? \n",
    "(Assume [2, 4, 6, 8, 10] are in spam.)"
   ]
  },
  {
   "cell_type": "code",
   "execution_count": 2,
   "id": "64f7403f",
   "metadata": {},
   "outputs": [
    {
     "name": "stdout",
     "output_type": "stream",
     "text": [
      "[2, 4, 'hello', 8, 10]\n"
     ]
    }
   ],
   "source": [
    "spam=[2, 4, 6, 8, 10]\n",
    "spam[2]=\"hello\"\n",
    "print (spam)"
   ]
  },
  {
   "cell_type": "markdown",
   "id": "890a8c99",
   "metadata": {},
   "source": [
    "Let's pretend the spam includes the list ['a', 'b', 'c', 'd'] for the next three queries."
   ]
  },
  {
   "cell_type": "markdown",
   "id": "cf55b17d",
   "metadata": {},
   "source": [
    "3. What is the value of spam[int(int('3' * 2) / 11)]?"
   ]
  },
  {
   "cell_type": "code",
   "execution_count": null,
   "id": "5601a50f",
   "metadata": {},
   "outputs": [],
   "source": [
    "spam[int(int('3' * 2) / 11)]\n",
    "spam[int(int(\"33\")/11)]      #(string \"3\"*2 gives \"33\", if it is \"3\"*5=\"33333\")\n",
    "spam[int(33/11)]\n",
    "spam[int(3)]\n",
    "spam[3]"
   ]
  },
  {
   "cell_type": "code",
   "execution_count": 3,
   "id": "d08a62e7",
   "metadata": {},
   "outputs": [
    {
     "data": {
      "text/plain": [
       "'d'"
      ]
     },
     "execution_count": 3,
     "metadata": {},
     "output_type": "execute_result"
    }
   ],
   "source": [
    "spam=['a', 'b', 'c', 'd']\n",
    "spam[3]"
   ]
  },
  {
   "cell_type": "markdown",
   "id": "75a56589",
   "metadata": {},
   "source": [
    "4. What is the value of spam[-1]?"
   ]
  },
  {
   "cell_type": "code",
   "execution_count": 4,
   "id": "f80757cb",
   "metadata": {},
   "outputs": [
    {
     "data": {
      "text/plain": [
       "'d'"
      ]
     },
     "execution_count": 4,
     "metadata": {},
     "output_type": "execute_result"
    }
   ],
   "source": [
    "spam=['a', 'b', 'c', 'd']\n",
    "spam[-1]"
   ]
  },
  {
   "cell_type": "markdown",
   "id": "216ae541",
   "metadata": {},
   "source": [
    "5. What is the value of spam[:2]?"
   ]
  },
  {
   "cell_type": "code",
   "execution_count": 5,
   "id": "a71518cf",
   "metadata": {},
   "outputs": [
    {
     "data": {
      "text/plain": [
       "'c'"
      ]
     },
     "execution_count": 5,
     "metadata": {},
     "output_type": "execute_result"
    }
   ],
   "source": [
    "spam=['a', 'b', 'c', 'd']\n",
    "spam[2]"
   ]
  },
  {
   "cell_type": "markdown",
   "id": "f10f08ee",
   "metadata": {},
   "source": [
    "Let's pretend bacon has the list [3.14, 'cat', 11, 'cat', True] for the next three questions."
   ]
  },
  {
   "cell_type": "markdown",
   "id": "ef2d0652",
   "metadata": {},
   "source": [
    "6. What is the value of bacon.index('cat')?"
   ]
  },
  {
   "cell_type": "code",
   "execution_count": 6,
   "id": "6c68d1df",
   "metadata": {},
   "outputs": [
    {
     "data": {
      "text/plain": [
       "1"
      ]
     },
     "execution_count": 6,
     "metadata": {},
     "output_type": "execute_result"
    }
   ],
   "source": [
    "#The value of bacon.index('cat') is 1 (Index method returns the index of first occuerence of 'cat')\n",
    "bacon=[3.14, 'cat', 11, 'cat', True]\n",
    "bacon.index('cat')"
   ]
  },
  {
   "cell_type": "markdown",
   "id": "f5b531ba",
   "metadata": {},
   "source": [
    "7. How does bacon.append(99) change the look of the list value in bacon?"
   ]
  },
  {
   "cell_type": "code",
   "execution_count": 10,
   "id": "5f79ddd7",
   "metadata": {},
   "outputs": [
    {
     "name": "stdout",
     "output_type": "stream",
     "text": [
      "[3.14, 'cat', 11, 'cat', True]\n",
      "[3.14, 'cat', 11, 'cat', True, 99]\n"
     ]
    }
   ],
   "source": [
    "#The append method adds new elements to the end of the list\n",
    "bacon=[3.14, 'cat', 11, 'cat', True]\n",
    "print (bacon)\n",
    "bacon.append(99)\n",
    "print (bacon)"
   ]
  },
  {
   "cell_type": "code",
   "execution_count": null,
   "id": "86366d54",
   "metadata": {},
   "outputs": [],
   "source": [
    "8. How does bacon.remove('cat') change the look of the list in bacon?"
   ]
  },
  {
   "cell_type": "code",
   "execution_count": 11,
   "id": "50e0aad6",
   "metadata": {},
   "outputs": [
    {
     "name": "stdout",
     "output_type": "stream",
     "text": [
      "[3.14, 'cat', 11, 'cat', True]\n",
      "[3.14, 11, 'cat', True]\n"
     ]
    }
   ],
   "source": [
    "#The remove method removes the first occurence of the element in the list\n",
    "bacon=[3.14, 'cat', 11, 'cat', True]\n",
    "print (bacon)\n",
    "bacon.remove('cat')\n",
    "print (bacon)"
   ]
  },
  {
   "cell_type": "markdown",
   "id": "699c1e78",
   "metadata": {},
   "source": [
    "9. What are the list concatenation and list replication operators?"
   ]
  },
  {
   "cell_type": "code",
   "execution_count": null,
   "id": "7d2a434c",
   "metadata": {},
   "outputs": [],
   "source": [
    "The operator for list concatenation is +, while the operator for replication is *. (This is the same as for strings)"
   ]
  },
  {
   "cell_type": "code",
   "execution_count": 12,
   "id": "04b4798f",
   "metadata": {},
   "outputs": [
    {
     "name": "stdout",
     "output_type": "stream",
     "text": [
      "['ML', 'DL', 'AI', 'CV', 'NLP', 'RNN', 'CNN', 'SVN']\n",
      "['RNN', 'CNN', 'SVN', 'RNN', 'CNN', 'SVN']\n"
     ]
    }
   ],
   "source": [
    "# Example\n",
    "list_1 = ['ML','DL','AI','CV','NLP']\n",
    "list_2 = ['RNN','CNN','SVN']\n",
    "print(list_1 + list_2) # List Concatenation\n",
    "print(list_2*2) # List Replication"
   ]
  },
  {
   "cell_type": "markdown",
   "id": "2dd6c47c",
   "metadata": {},
   "source": [
    "10. What is difference between the list methods append() and insert()?"
   ]
  },
  {
   "cell_type": "code",
   "execution_count": null,
   "id": "da937ff4",
   "metadata": {},
   "outputs": [],
   "source": [
    "While append() will add values only to the end of a list, insert() can add them anywhere in the list."
   ]
  },
  {
   "cell_type": "code",
   "execution_count": 33,
   "id": "aa171f7e",
   "metadata": {},
   "outputs": [
    {
     "name": "stdout",
     "output_type": "stream",
     "text": [
      "[1, 2, 3, 4, 5, 100]\n",
      "[1, 2, 'sant', 3, 4, 5, 100]\n"
     ]
    }
   ],
   "source": [
    "#Examples\n",
    "l1 = [1,2,3,4,5]\n",
    "l1.append(100)\n",
    "print(l1)\n",
    "l1.insert(2,'sant')\n",
    "print(l1)"
   ]
  },
  {
   "cell_type": "markdown",
   "id": "7e6c699a",
   "metadata": {},
   "source": [
    "11. What are the two methods for removing items from a list?"
   ]
  },
  {
   "cell_type": "code",
   "execution_count": null,
   "id": "b741e105",
   "metadata": {},
   "outputs": [],
   "source": [
    "The del statement and the remove() list method are two ways to remove values from a list."
   ]
  },
  {
   "cell_type": "code",
   "execution_count": 14,
   "id": "fa76077a",
   "metadata": {},
   "outputs": [
    {
     "data": {
      "text/plain": [
       "[1, 2, 4, 5, 6]"
      ]
     },
     "execution_count": 14,
     "metadata": {},
     "output_type": "execute_result"
    }
   ],
   "source": [
    "# assign list\n",
    "numbers = [1, 2, 3, 4, 5, 6]\n",
    "  \n",
    "# use del, which deletes the element in the mentioned index position\n",
    "del numbers[2]\n",
    "\n",
    "numbers"
   ]
  },
  {
   "cell_type": "code",
   "execution_count": 16,
   "id": "809bf865",
   "metadata": {},
   "outputs": [
    {
     "data": {
      "text/plain": [
       "[1, 2, 4, 5, 6]"
      ]
     },
     "execution_count": 16,
     "metadata": {},
     "output_type": "execute_result"
    }
   ],
   "source": [
    "# assign list\n",
    "numbers1 = [1, 2, \"sant\", 4, 5, 6]\n",
    "  \n",
    "# use remove(), which removes the element that we have mentioned.\n",
    "numbers1.remove(\"sant\")\n",
    "numbers1"
   ]
  },
  {
   "cell_type": "markdown",
   "id": "2b4c8279",
   "metadata": {},
   "source": [
    "12. Describe how list values and string values are identical."
   ]
  },
  {
   "cell_type": "code",
   "execution_count": 18,
   "id": "1bd984e9",
   "metadata": {},
   "outputs": [
    {
     "name": "stdout",
     "output_type": "stream",
     "text": [
      "5\n",
      "4\n"
     ]
    }
   ],
   "source": [
    "#1.Both lists and strings can be passed to len().\n",
    "l1 = [1,2,3,4,5]\n",
    "s=\"sant\"\n",
    "print (len(l1))\n",
    "print (len(s))"
   ]
  },
  {
   "cell_type": "code",
   "execution_count": 19,
   "id": "1b8ed177",
   "metadata": {},
   "outputs": [
    {
     "name": "stdout",
     "output_type": "stream",
     "text": [
      "[1, 3]\n",
      "sn\n"
     ]
    }
   ],
   "source": [
    "#2.have indexes and slices, be used in for loops.\n",
    "print (l1[0:4:2])\n",
    "print (s[0:4:2])"
   ]
  },
  {
   "cell_type": "code",
   "execution_count": 20,
   "id": "fcf0e75e",
   "metadata": {},
   "outputs": [
    {
     "name": "stdout",
     "output_type": "stream",
     "text": [
      "[1, 2, 3, 4, 5, 1, 2, 3, 4, 5]\n",
      "santsant\n",
      "[1, 2, 3, 4, 5, 1, 2, 3, 4, 5, 1, 2, 3, 4, 5]\n",
      "santsantsant\n"
     ]
    }
   ],
   "source": [
    "#3.be concatenated or replicated.\n",
    "\n",
    "#concatenated\n",
    "print (l1+l1)\n",
    "print (s+s)\n",
    "\n",
    "#replicated\n",
    "print (l1*3)\n",
    "print (s*3)"
   ]
  },
  {
   "cell_type": "code",
   "execution_count": 22,
   "id": "156145a0",
   "metadata": {},
   "outputs": [
    {
     "name": "stdout",
     "output_type": "stream",
     "text": [
      "True\n",
      "True\n"
     ]
    }
   ],
   "source": [
    "#4.be used with the in and not in operators.\n",
    "print (3 in l1)\n",
    "print ('o' not in s)"
   ]
  },
  {
   "cell_type": "markdown",
   "id": "83bd2cf8",
   "metadata": {},
   "source": [
    "13. What's the difference between tuples and lists?"
   ]
  },
  {
   "cell_type": "code",
   "execution_count": null,
   "id": "f33f54f9",
   "metadata": {},
   "outputs": [],
   "source": [
    "Lists are Mutable, Indexable and Slicable. They can have values added, removed, or changed. \n",
    "Tuples are Immutable but Indexable and Slicable. The tuple values cannot be changed at all. \n",
    "Also, tuples are represented using parentheses(), while lists use the square brackets[]."
   ]
  },
  {
   "cell_type": "markdown",
   "id": "8a213986",
   "metadata": {},
   "source": [
    "14. How do you type a tuple value that only contains the integer 42?"
   ]
  },
  {
   "cell_type": "code",
   "execution_count": null,
   "id": "f3d2808b",
   "metadata": {},
   "outputs": [],
   "source": [
    "The trailing comma is mandatory. otherwise its considered as a int by python Interpreter"
   ]
  },
  {
   "cell_type": "code",
   "execution_count": 23,
   "id": "d50cb8f3",
   "metadata": {},
   "outputs": [
    {
     "name": "stdout",
     "output_type": "stream",
     "text": [
      "<class 'int'>\n",
      "<class 'tuple'>\n"
     ]
    }
   ],
   "source": [
    "t1=(2)\n",
    "t2=(2,)\n",
    "print(type(t1))\n",
    "print(type(t2))"
   ]
  },
  {
   "cell_type": "markdown",
   "id": "7c36b712",
   "metadata": {},
   "source": [
    "15. How do you get a list value's tuple form? How do you get a tuple value's list form?"
   ]
  },
  {
   "cell_type": "code",
   "execution_count": null,
   "id": "a0b21dfa",
   "metadata": {},
   "outputs": [],
   "source": [
    "The tuple() and list() functions, respectively are used to convert a list to tuple and vice versa"
   ]
  },
  {
   "cell_type": "code",
   "execution_count": 39,
   "id": "556d12da",
   "metadata": {},
   "outputs": [
    {
     "name": "stdout",
     "output_type": "stream",
     "text": [
      "[1, 2, 'sant', 3, 4, 5, 100]\n",
      "(1, 2, 'sant', 3, 4, 5, 100)\n"
     ]
    }
   ],
   "source": [
    "print (l1)\n",
    "print (tuple(l1))"
   ]
  },
  {
   "cell_type": "markdown",
   "id": "97de8521",
   "metadata": {},
   "source": [
    "16. Variables that \"contain\" list values are not necessarily lists themselves. Instead, what do they contain?"
   ]
  },
  {
   "cell_type": "code",
   "execution_count": null,
   "id": "d7e895c2",
   "metadata": {},
   "outputs": [],
   "source": [
    "They contain references to list values."
   ]
  },
  {
   "cell_type": "code",
   "execution_count": null,
   "id": "1a6d5ed9",
   "metadata": {},
   "outputs": [],
   "source": [
    "17. How do you distinguish between copy.copy() and copy.deepcopy()?"
   ]
  },
  {
   "cell_type": "code",
   "execution_count": 57,
   "id": "e3aead73",
   "metadata": {},
   "outputs": [],
   "source": [
    "# importing copy module\n",
    "import copy\n",
    "\n",
    "# initializing list 1\n",
    "l1=[[1, 2, 3 ],[4,5,6]]\n",
    "l2=[[1,2,3],[4,5,6]]\n",
    "\n",
    "\n",
    "# using copy for shallow copy\n",
    "l3 = copy.copy(l1)\n",
    "l3[1][0]=1000\n",
    "\n",
    "# using deepcopy for deepcopy\n",
    "l4 = copy.deepcopy(l1)\n",
    "l4[1][0]=2000\n"
   ]
  },
  {
   "cell_type": "code",
   "execution_count": 58,
   "id": "0b39751a",
   "metadata": {},
   "outputs": [
    {
     "data": {
      "text/plain": [
       "[[1, 2, 3], [1000, 5, 6]]"
      ]
     },
     "execution_count": 58,
     "metadata": {},
     "output_type": "execute_result"
    }
   ],
   "source": [
    "# using copy for shallow copy\n",
    "#object inside the netsted elements get updated, refering same memory location l3 nad l1.\n",
    "l1"
   ]
  },
  {
   "cell_type": "code",
   "execution_count": 59,
   "id": "3db0e201",
   "metadata": {},
   "outputs": [
    {
     "data": {
      "text/plain": [
       "[[1, 2, 3], [1000, 5, 6]]"
      ]
     },
     "execution_count": 59,
     "metadata": {},
     "output_type": "execute_result"
    }
   ],
   "source": [
    "l3"
   ]
  },
  {
   "cell_type": "code",
   "execution_count": 60,
   "id": "fc6a7d57",
   "metadata": {},
   "outputs": [
    {
     "data": {
      "text/plain": [
       "[[1, 2, 3], [4, 5, 6]]"
      ]
     },
     "execution_count": 60,
     "metadata": {},
     "output_type": "execute_result"
    }
   ],
   "source": [
    "# using deepcopy for deepcopy\n",
    "#object inside the nested elements not get updated, in deep copy a separate meomory location is created for l4. \n",
    "l2"
   ]
  },
  {
   "cell_type": "code",
   "execution_count": 61,
   "id": "776fe7f9",
   "metadata": {},
   "outputs": [
    {
     "data": {
      "text/plain": [
       "[[1, 2, 3], [2000, 5, 6]]"
      ]
     },
     "execution_count": 61,
     "metadata": {},
     "output_type": "execute_result"
    }
   ],
   "source": [
    "l4"
   ]
  }
 ],
 "metadata": {
  "kernelspec": {
   "display_name": "Python 3 (ipykernel)",
   "language": "python",
   "name": "python3"
  },
  "language_info": {
   "codemirror_mode": {
    "name": "ipython",
    "version": 3
   },
   "file_extension": ".py",
   "mimetype": "text/x-python",
   "name": "python",
   "nbconvert_exporter": "python",
   "pygments_lexer": "ipython3",
   "version": "3.9.12"
  }
 },
 "nbformat": 4,
 "nbformat_minor": 5
}
