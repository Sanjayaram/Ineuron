{
 "cells": [
  {
   "cell_type": "markdown",
   "id": "e2f4580b",
   "metadata": {},
   "source": [
    "1. Why are functions advantageous to have in your programs?"
   ]
  },
  {
   "cell_type": "code",
   "execution_count": null,
   "id": "72a35a7d",
   "metadata": {},
   "outputs": [],
   "source": [
    "1.Functions reduce the need for duplicate code. This makes programs shorter, easier to read, and easier to update. \n",
    "  The main advantage of functions is code Reusability.\n",
    "2.Decreases programmer effort as no need to write same logic again and again.\n",
    "3.Divide a complex problem into simpler ones.\n",
    "4.Reduces chances of error.\n",
    "5.Modifying a program becomes easier by using function"
   ]
  },
  {
   "cell_type": "markdown",
   "id": "41bb1a09",
   "metadata": {},
   "source": [
    "2. When does the code in a function run: when it's specified or when it's called?"
   ]
  },
  {
   "cell_type": "code",
   "execution_count": null,
   "id": "8c447628",
   "metadata": {},
   "outputs": [],
   "source": [
    "code inside the functions execcute only when the function is called."
   ]
  },
  {
   "cell_type": "code",
   "execution_count": 1,
   "id": "313692e9",
   "metadata": {},
   "outputs": [],
   "source": [
    "#creating simple function\n",
    "def my_func(a):\n",
    "    print (\"hi\")"
   ]
  },
  {
   "cell_type": "code",
   "execution_count": 5,
   "id": "59892c6a",
   "metadata": {},
   "outputs": [
    {
     "name": "stdout",
     "output_type": "stream",
     "text": [
      "hi\n"
     ]
    }
   ],
   "source": [
    "#calling the function\n",
    "my_func(1)"
   ]
  },
  {
   "cell_type": "markdown",
   "id": "9f63b79d",
   "metadata": {},
   "source": [
    "3. What statement creates a function?"
   ]
  },
  {
   "cell_type": "code",
   "execution_count": null,
   "id": "dfaa0454",
   "metadata": {},
   "outputs": [],
   "source": [
    "The def statement defines a function\n",
    "\n",
    "Syntax of Function:\n",
    "def function_name(parameters):\n",
    "    \"\"\"doc string\"\"\" \n",
    "    \n",
    "    -----function body-----\n",
    "   \n",
    "    return value"
   ]
  },
  {
   "cell_type": "markdown",
   "id": "3b8d8418",
   "metadata": {},
   "source": [
    "4. What is the difference between a function and a function call?"
   ]
  },
  {
   "cell_type": "code",
   "execution_count": null,
   "id": "e58b6b65",
   "metadata": {},
   "outputs": [],
   "source": [
    "a function consists the logic and code which we can use to achieve required results.\n",
    "# def function_01():\n",
    "#     pass\n",
    "\n",
    "a function call is used to execute the code inside the function, without calling the function code will not execute.\n",
    "# function_01()"
   ]
  },
  {
   "cell_type": "code",
   "execution_count": 9,
   "id": "d9eb66ce",
   "metadata": {},
   "outputs": [
    {
     "data": {
      "text/plain": [
       "8"
      ]
     },
     "execution_count": 9,
     "metadata": {},
     "output_type": "execute_result"
    }
   ],
   "source": [
    "#Function\n",
    "def cube(i):\n",
    "    return i**3\n",
    "#Function Call\n",
    "(cube(2))"
   ]
  },
  {
   "cell_type": "markdown",
   "id": "eed29aaa",
   "metadata": {},
   "source": [
    "5. How many global scopes are there in a Python program? How many local scopes?"
   ]
  },
  {
   "cell_type": "code",
   "execution_count": null,
   "id": "519716bf",
   "metadata": {},
   "outputs": [],
   "source": [
    "There can be only 1 global scopes but multiple local scopes(as much as required) in a python program.\n",
    "\n",
    "Variables that are defined inside a function body have a local scope, and those defined outside have a global scope.\n",
    "\n",
    "This means that local variables can be accessed only inside the function in which they are declared, \n",
    "whereas global variables can be accessed throughout the program body by all functions. When you call a function, \n",
    "the variables declared inside it are brought into scope."
   ]
  },
  {
   "cell_type": "code",
   "execution_count": 11,
   "id": "5c384688",
   "metadata": {},
   "outputs": [
    {
     "name": "stdout",
     "output_type": "stream",
     "text": [
      "Inside the function local total :  30\n",
      "Outside the function global total :  0\n"
     ]
    }
   ],
   "source": [
    "total = 0; # This is global variable.\n",
    "# Function definition is here\n",
    "def sum( a, b ):\n",
    "   # Add both the parameters and return them.\"\n",
    "    total = a + b; # Here total is local variable.\n",
    "    print (\"Inside the function local total : \", total)\n",
    "    return total;\n",
    "# Now you can call sum function\n",
    "sum( 10, 20 );\n",
    "print (\"Outside the function global total : \", total)"
   ]
  },
  {
   "cell_type": "markdown",
   "id": "a54ee732",
   "metadata": {},
   "source": [
    "6. What happens to variables in a local scope when the function call returns?"
   ]
  },
  {
   "cell_type": "code",
   "execution_count": null,
   "id": "f5e44731",
   "metadata": {},
   "outputs": [],
   "source": [
    "local scope variables will cease to exist(means there will be no reserved memory location for that variable) \n",
    "once the function execution ends."
   ]
  },
  {
   "cell_type": "markdown",
   "id": "61c21215",
   "metadata": {},
   "source": [
    "7. What is the concept of a return value? Is it possible to have a return value in an expression?"
   ]
  },
  {
   "cell_type": "code",
   "execution_count": null,
   "id": "d55e5ba8",
   "metadata": {},
   "outputs": [],
   "source": [
    "Function returns a value after its execution using return keyword.\n",
    "Yes it is possible to return value in an expression as we can see in below example."
   ]
  },
  {
   "cell_type": "code",
   "execution_count": 12,
   "id": "cbda1092",
   "metadata": {},
   "outputs": [
    {
     "data": {
      "text/plain": [
       "4"
      ]
     },
     "execution_count": 12,
     "metadata": {},
     "output_type": "execute_result"
    }
   ],
   "source": [
    "def square(a):\n",
    "    return (a**2)\n",
    "square(2)"
   ]
  },
  {
   "cell_type": "markdown",
   "id": "051a7272",
   "metadata": {},
   "source": [
    "8. If a function does not have a return statement, what is the return value of a call to that function?"
   ]
  },
  {
   "cell_type": "code",
   "execution_count": null,
   "id": "672e5968",
   "metadata": {},
   "outputs": [],
   "source": [
    "It will return None value with data type as NoneType."
   ]
  },
  {
   "cell_type": "code",
   "execution_count": 14,
   "id": "46ca7fb4",
   "metadata": {},
   "outputs": [
    {
     "name": "stdout",
     "output_type": "stream",
     "text": [
      "None\n"
     ]
    }
   ],
   "source": [
    "def square(a):\n",
    "    pass\n",
    "a=square(2)\n",
    "print (a)"
   ]
  },
  {
   "cell_type": "code",
   "execution_count": 15,
   "id": "ded151c0",
   "metadata": {},
   "outputs": [
    {
     "data": {
      "text/plain": [
       "NoneType"
      ]
     },
     "execution_count": 15,
     "metadata": {},
     "output_type": "execute_result"
    }
   ],
   "source": [
    "type (square(2))"
   ]
  },
  {
   "cell_type": "markdown",
   "id": "e02a9ffd",
   "metadata": {},
   "source": [
    "9. How do you make a function variable refer to the global variable?"
   ]
  },
  {
   "cell_type": "code",
   "execution_count": 16,
   "id": "c6ee64a2",
   "metadata": {},
   "outputs": [
    {
     "name": "stdout",
     "output_type": "stream",
     "text": [
      "Python is awesome\n"
     ]
    }
   ],
   "source": [
    "x = \"awesome\"\n",
    "\n",
    "def myfunc():\n",
    "    print(\"Python is \" + x)\n",
    "\n",
    "myfunc()"
   ]
  },
  {
   "cell_type": "code",
   "execution_count": null,
   "id": "0b4cf9f4",
   "metadata": {},
   "outputs": [],
   "source": [
    "in the above example x is global variable and function created used the global variable"
   ]
  },
  {
   "cell_type": "code",
   "execution_count": 18,
   "id": "c49bb342",
   "metadata": {},
   "outputs": [
    {
     "name": "stdout",
     "output_type": "stream",
     "text": [
      "Python is fantastic\n"
     ]
    }
   ],
   "source": [
    "#To change the value of a global variable inside a function, refer to the variable by using the global keyword.\n",
    "x = \"awesome\"\n",
    "\n",
    "def myfunc():\n",
    "    global x\n",
    "    x = \"fantastic\"\n",
    "\n",
    "myfunc()\n",
    "\n",
    "print(\"Python is \" + x)"
   ]
  },
  {
   "cell_type": "markdown",
   "id": "21633641",
   "metadata": {},
   "source": [
    "10. What is the data type of None?"
   ]
  },
  {
   "cell_type": "code",
   "execution_count": null,
   "id": "c28e9f4a",
   "metadata": {},
   "outputs": [],
   "source": [
    "It is NoneType"
   ]
  },
  {
   "cell_type": "markdown",
   "id": "9b17c163",
   "metadata": {},
   "source": [
    "11. What does the sentence import areallyourpetsnamederic do?"
   ]
  },
  {
   "cell_type": "code",
   "execution_count": null,
   "id": "bfdd387f",
   "metadata": {},
   "outputs": [],
   "source": [
    "If there is any module with name areallyourpetsnamederic then it will import this module \n",
    "and we can use functionality comprised in the imported modules.\n",
    "\n",
    "but if there is no module with this name we get ModuleNotFoundError."
   ]
  },
  {
   "cell_type": "markdown",
   "id": "de752664",
   "metadata": {},
   "source": [
    "12. If you had a bacon() feature in a spam module, what would you call it after importing spam?"
   ]
  },
  {
   "cell_type": "code",
   "execution_count": null,
   "id": "3cda79bd",
   "metadata": {},
   "outputs": [],
   "source": [
    "import spam\n",
    "spam.bacon()"
   ]
  },
  {
   "cell_type": "markdown",
   "id": "4544b703",
   "metadata": {},
   "source": [
    "13. What can you do to save a programme from crashing if it encounters an error?"
   ]
  },
  {
   "cell_type": "code",
   "execution_count": null,
   "id": "6be25be7",
   "metadata": {},
   "outputs": [],
   "source": [
    "we can do Exception handling to avoid such cases, if we know where program can encounter the errors."
   ]
  },
  {
   "cell_type": "markdown",
   "id": "eec21734",
   "metadata": {},
   "source": [
    "14. What is the purpose of the try clause? What is the purpose of the except clause?"
   ]
  },
  {
   "cell_type": "code",
   "execution_count": null,
   "id": "90bd1546",
   "metadata": {},
   "outputs": [],
   "source": [
    "try clause is used to check the code for exceptions where we might encounter run-time error/exception.\n",
    "\n",
    "except clause is used to handle the exception which code inside try clause encounters, \n",
    "can print custom message or required info  for that exception"
   ]
  }
 ],
 "metadata": {
  "kernelspec": {
   "display_name": "Python 3 (ipykernel)",
   "language": "python",
   "name": "python3"
  },
  "language_info": {
   "codemirror_mode": {
    "name": "ipython",
    "version": 3
   },
   "file_extension": ".py",
   "mimetype": "text/x-python",
   "name": "python",
   "nbconvert_exporter": "python",
   "pygments_lexer": "ipython3",
   "version": "3.9.12"
  }
 },
 "nbformat": 4,
 "nbformat_minor": 5
}
