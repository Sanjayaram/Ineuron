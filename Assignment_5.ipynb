{
 "cells": [
  {
   "cell_type": "markdown",
   "id": "3ea48561",
   "metadata": {},
   "source": [
    "1. What does an empty dictionary's code look like?"
   ]
  },
  {
   "cell_type": "code",
   "execution_count": 1,
   "id": "1767bd81",
   "metadata": {},
   "outputs": [],
   "source": [
    "d={}"
   ]
  },
  {
   "cell_type": "code",
   "execution_count": 4,
   "id": "607a0b20",
   "metadata": {},
   "outputs": [
    {
     "name": "stdout",
     "output_type": "stream",
     "text": [
      "{}\n"
     ]
    }
   ],
   "source": [
    "di=dict()\n",
    "print(di)"
   ]
  },
  {
   "cell_type": "code",
   "execution_count": 5,
   "id": "8d0049d9",
   "metadata": {},
   "outputs": [
    {
     "name": "stdout",
     "output_type": "stream",
     "text": [
      "{}\n",
      "Length: 0\n",
      "<class 'dict'>\n"
     ]
    }
   ],
   "source": [
    "# Python3 code to demonstrate use of\n",
    "# {} symbol to initialize dictionary\n",
    "emptyDict = {}\n",
    " \n",
    "# print dictionary\n",
    "print(emptyDict)\n",
    " \n",
    "# print length of dictionary\n",
    "print(\"Length:\", len(emptyDict))\n",
    " \n",
    "# print type\n",
    "print(type(emptyDict))"
   ]
  },
  {
   "cell_type": "markdown",
   "id": "ed0cd53b",
   "metadata": {},
   "source": [
    "2. What is the value of a dictionary value with the key 'foo' and the value 42?"
   ]
  },
  {
   "cell_type": "code",
   "execution_count": 7,
   "id": "a53324bf",
   "metadata": {},
   "outputs": [],
   "source": [
    "d1={'foo':42}"
   ]
  },
  {
   "cell_type": "code",
   "execution_count": 8,
   "id": "89444eae",
   "metadata": {},
   "outputs": [
    {
     "data": {
      "text/plain": [
       "dict_values([42])"
      ]
     },
     "execution_count": 8,
     "metadata": {},
     "output_type": "execute_result"
    }
   ],
   "source": [
    "#value of dictionary d1 is \n",
    "d1.values()"
   ]
  },
  {
   "cell_type": "markdown",
   "id": "6c6b1b5b",
   "metadata": {},
   "source": [
    "3. What is the most significant distinction between a dictionary and a list?"
   ]
  },
  {
   "cell_type": "code",
   "execution_count": null,
   "id": "a1ab7da8",
   "metadata": {},
   "outputs": [],
   "source": [
    "Dictionaries are represented by {} where as listed are represented by []. \n",
    "The Items stored in a dictionary are Unordered , while the items in a list are ordered.\n",
    "\n",
    "Suppose, we have initialised a list L. And it consists of numbers in it. List looks something like\n",
    "\n",
    "L=[1, 2, 3, 4, 5] \n",
    "Now, Try doing the following and see the result.\n",
    "\n",
    "print(L) \n",
    "print(L[0], L[1], L[2], L[3], L[4]) \n",
    "Similarly, let’s initialise a dictionary D\n",
    "\n",
    "D={'Maharashtra': 'Mumbai', 'Rajasthan': 'Jaipur', 'Karnataka': 'Bengaluru'} \n",
    "Likewise, do\n",
    "\n",
    "print(D) \n",
    "Let’s try this as well. Initialise a Tuple T.\n",
    "\n",
    "T=(1, 2, 3, 4, 5) \n",
    "Checkout the result\n",
    "\n",
    "print(T) \n",
    "print(T[0], T[1], T[2], T[3], T[4]) \n",
    "Conclusion based on the above exercise.\n",
    "\n",
    "In Lists and Tuples you will be able to access the elements based on there position. \n",
    "That is element at position 0 will always be at position 0 hence, can be accessed using integers \n",
    "like L[0] or T[0] and result will be 1.\n",
    "\n",
    "While, when you print the Dictionary it may give an output like\n",
    "\n",
    "{'Maharashtra': 'Mumbai', 'Rajasthan': 'Jaipur', 'Karnataka': 'Bengaluru'} \n",
    "or\n",
    "\n",
    "{'Rajasthan': 'Jaipur', 'Karnataka': 'Bengaluru', 'Maharashtra': 'Mumbai'} \n",
    "or some other way. What remains fixed is the mapping of values with keys. But, positioning might vary. \n",
    "So, when you access elements present in dictionary. We don’t do it based on position. We do it based on keys.\n",
    "\n",
    "print(D['Rajasthan'], D['Karnataka'], D['Maharashtra']) \n",
    "So, on and so fourth.\n",
    "\n",
    "Coming back to Question.\n",
    "\n",
    "So, Tuples and Lists are ordered. Dictionaries are unordered.\n",
    "\n",
    "Can dictionary be ordered?\n",
    "\n",
    "Yes, checkout collections library. And a method named as OrderedDict(). \n",
    "As, the name suggests it remembers the order in which contents are added."
   ]
  },
  {
   "cell_type": "markdown",
   "id": "9aadd275",
   "metadata": {},
   "source": [
    "4. What happens if you try to access spam['foo'] if spam is {'bar': 100}?"
   ]
  },
  {
   "cell_type": "code",
   "execution_count": 9,
   "id": "577bc992",
   "metadata": {},
   "outputs": [
    {
     "ename": "KeyError",
     "evalue": "'foo'",
     "output_type": "error",
     "traceback": [
      "\u001b[1;31m---------------------------------------------------------------------------\u001b[0m",
      "\u001b[1;31mKeyError\u001b[0m                                  Traceback (most recent call last)",
      "Input \u001b[1;32mIn [9]\u001b[0m, in \u001b[0;36m<cell line: 2>\u001b[1;34m()\u001b[0m\n\u001b[0;32m      1\u001b[0m spam \u001b[38;5;241m=\u001b[39m {\u001b[38;5;124m'\u001b[39m\u001b[38;5;124mbar\u001b[39m\u001b[38;5;124m'\u001b[39m: \u001b[38;5;241m100\u001b[39m}\n\u001b[1;32m----> 2\u001b[0m \u001b[43mspam\u001b[49m\u001b[43m[\u001b[49m\u001b[38;5;124;43m\"\u001b[39;49m\u001b[38;5;124;43mfoo\u001b[39;49m\u001b[38;5;124;43m\"\u001b[39;49m\u001b[43m]\u001b[49m\n",
      "\u001b[1;31mKeyError\u001b[0m: 'foo'"
     ]
    }
   ],
   "source": [
    "#we will get key error\n",
    "spam = {'bar': 100}\n",
    "spam[\"foo\"]"
   ]
  },
  {
   "cell_type": "markdown",
   "id": "6efa3570",
   "metadata": {},
   "source": [
    "5. If a dictionary is stored in spam, what is the difference between the expressions 'cat' in spam and 'cat' in spam.keys()?"
   ]
  },
  {
   "cell_type": "code",
   "execution_count": 10,
   "id": "9e405755",
   "metadata": {},
   "outputs": [
    {
     "data": {
      "text/plain": [
       "True"
      ]
     },
     "execution_count": 10,
     "metadata": {},
     "output_type": "execute_result"
    }
   ],
   "source": [
    "spam ={'cat':100}\n",
    "'cat' in spam"
   ]
  },
  {
   "cell_type": "code",
   "execution_count": 11,
   "id": "df511722",
   "metadata": {},
   "outputs": [
    {
     "data": {
      "text/plain": [
       "True"
      ]
     },
     "execution_count": 11,
     "metadata": {},
     "output_type": "execute_result"
    }
   ],
   "source": [
    "'cat' in spam.keys()\n",
    "#There is no differnce, both check if 'cat' is key of the dictionary and if its a key, returns True."
   ]
  },
  {
   "cell_type": "markdown",
   "id": "94e14e3a",
   "metadata": {},
   "source": [
    "6. If a dictionary is stored in spam, what is the difference between the expressions 'cat' in spam and 'cat' in spam.values()?"
   ]
  },
  {
   "cell_type": "code",
   "execution_count": 16,
   "id": "56bacfbc",
   "metadata": {},
   "outputs": [
    {
     "data": {
      "text/plain": [
       "True"
      ]
     },
     "execution_count": 16,
     "metadata": {},
     "output_type": "execute_result"
    }
   ],
   "source": [
    "spam ={'cat':100}\n",
    "'cat' in spam"
   ]
  },
  {
   "cell_type": "code",
   "execution_count": 13,
   "id": "94f59ab0",
   "metadata": {},
   "outputs": [
    {
     "data": {
      "text/plain": [
       "False"
      ]
     },
     "execution_count": 13,
     "metadata": {},
     "output_type": "execute_result"
    }
   ],
   "source": [
    "spam ={'cat':100}\n",
    "'cat' in spam.values()\n",
    "\n",
    "#'cat' in spam checks whether there is a 'cat' key in the dictionary\n",
    "#'cat' in spam.values() checks whether there is a value 'cat' for one of the keys in spam."
   ]
  },
  {
   "cell_type": "markdown",
   "id": "fcd630f1",
   "metadata": {},
   "source": [
    "7. What is a shortcut for the following code?\n",
    "if 'color' not in spam:\n",
    "spam['color'] = 'black'"
   ]
  },
  {
   "cell_type": "code",
   "execution_count": 18,
   "id": "4d80d8f0",
   "metadata": {},
   "outputs": [
    {
     "data": {
      "text/plain": [
       "'black'"
      ]
     },
     "execution_count": 18,
     "metadata": {},
     "output_type": "execute_result"
    }
   ],
   "source": [
    "#spam is not having the key \"color\", to insert key('color') and value('black') to spam\n",
    "spam.setdefault('color','black')"
   ]
  },
  {
   "cell_type": "code",
   "execution_count": 19,
   "id": "0b80f8ff",
   "metadata": {},
   "outputs": [
    {
     "data": {
      "text/plain": [
       "{'cat': 100, 'color': 'black'}"
      ]
     },
     "execution_count": 19,
     "metadata": {},
     "output_type": "execute_result"
    }
   ],
   "source": [
    "#this inserts key and value to spam\n",
    "spam"
   ]
  },
  {
   "cell_type": "markdown",
   "id": "8580557e",
   "metadata": {},
   "source": [
    "8. How do you \"pretty print\" dictionary values using which module and function?"
   ]
  },
  {
   "cell_type": "code",
   "execution_count": null,
   "id": "19ac4a23",
   "metadata": {},
   "outputs": [],
   "source": [
    "we can pretty print a dictionary using three functions\n",
    "\n",
    "1. By using pprint() function of pprint module\n",
    "    Note: pprint() function doesnot prettify nested dictionaries\n",
    "        \n",
    "2. By using dumps() method of json module\n",
    "\n",
    "3. By using dumps() method of yaml module"
   ]
  },
  {
   "cell_type": "code",
   "execution_count": 21,
   "id": "28324ddd",
   "metadata": {},
   "outputs": [
    {
     "name": "stdout",
     "output_type": "stream",
     "text": [
      "Printing using print() function\n",
      " [{'Name': 'Sam', 'Age': '54', 'Residence': {'Country': 'Bangladesh', 'City': 'Dhaka'}}, {'Name': 'Krish', 'Age': '23', 'Residence': {'Country': 'Spain', 'City': 'Madrid'}}, {'Name': 'Esha', 'Age': '26', 'Residence': {'Country': 'UK', 'City': 'England'}}, {'Name': 'Papa', 'Age': '64', 'Residence': {'Country': 'Japan', 'City': 'Osaka'}}]\n",
      "----------------------------------------------------------------------\n",
      "Printing using pprint() funciton\n",
      "[{'Age': '54',\n",
      "  'Name': 'Sam',\n",
      "  'Residence': {'City': 'Dhaka', 'Country': 'Bangladesh'}},\n",
      " {'Age': '23',\n",
      "  'Name': 'Krish',\n",
      "  'Residence': {'City': 'Madrid', 'Country': 'Spain'}},\n",
      " {'Age': '26',\n",
      "  'Name': 'Esha',\n",
      "  'Residence': {'City': 'England', 'Country': 'UK'}},\n",
      " {'Age': '64',\n",
      "  'Name': 'Papa',\n",
      "  'Residence': {'City': 'Osaka', 'Country': 'Japan'}}]\n",
      "----------------------------------------------------------------------\n",
      "Printing using dumps() method from json\n",
      " [\n",
      "    {\n",
      "        \"Name\": \"Sam\",\n",
      "        \"Age\": \"54\",\n",
      "        \"Residence\": {\n",
      "            \"Country\": \"Bangladesh\",\n",
      "            \"City\": \"Dhaka\"\n",
      "        }\n",
      "    },\n",
      "    {\n",
      "        \"Name\": \"Krish\",\n",
      "        \"Age\": \"23\",\n",
      "        \"Residence\": {\n",
      "            \"Country\": \"Spain\",\n",
      "            \"City\": \"Madrid\"\n",
      "        }\n",
      "    },\n",
      "    {\n",
      "        \"Name\": \"Esha\",\n",
      "        \"Age\": \"26\",\n",
      "        \"Residence\": {\n",
      "            \"Country\": \"UK\",\n",
      "            \"City\": \"England\"\n",
      "        }\n",
      "    },\n",
      "    {\n",
      "        \"Name\": \"Papa\",\n",
      "        \"Age\": \"64\",\n",
      "        \"Residence\": {\n",
      "            \"Country\": \"Japan\",\n",
      "            \"City\": \"Osaka\"\n",
      "        }\n",
      "    }\n",
      "]\n",
      "----------------------------------------------------------------------\n",
      "Printing using dump() method from yaml\n",
      " - Age: '54'\n",
      "  Name: Sam\n",
      "  Residence:\n",
      "    City: Dhaka\n",
      "    Country: Bangladesh\n",
      "- Age: '23'\n",
      "  Name: Krish\n",
      "  Residence:\n",
      "    City: Madrid\n",
      "    Country: Spain\n",
      "- Age: '26'\n",
      "  Name: Esha\n",
      "  Residence:\n",
      "    City: England\n",
      "    Country: UK\n",
      "- Age: '64'\n",
      "  Name: Papa\n",
      "  Residence:\n",
      "    City: Osaka\n",
      "    Country: Japan\n",
      "\n"
     ]
    }
   ],
   "source": [
    "ndict = [\n",
    "  {'Name': 'Sam', 'Age': '54', 'Residence': {'Country':'Bangladesh', 'City': 'Dhaka'}},\n",
    "  {'Name': 'Krish', 'Age': '23', 'Residence': {'Country':'Spain', 'City': 'Madrid'}},\n",
    "  {'Name': 'Esha', 'Age': '26', 'Residence': {'Country':'UK', 'City': 'England'}},\n",
    "  {'Name': 'Papa', 'Age': '64', 'Residence': {'Country':'Japan', 'City': 'Osaka'}}\n",
    "]\n",
    "\n",
    "print('Printing using print() function\\n',ndict)\n",
    "print('-'*70)\n",
    "import pprint\n",
    "print('Printing using pprint() funciton')\n",
    "pprint.pprint(ndict)\n",
    "print('-'*70)\n",
    "import json\n",
    "dump = json.dumps(ndict, indent=4)\n",
    "print('Printing using dumps() method from json\\n', dump)\n",
    "print('-'*70)\n",
    "import yaml\n",
    "dump = yaml.dump(ndict)\n",
    "print('Printing using dump() method from yaml\\n', dump)"
   ]
  },
  {
   "cell_type": "code",
   "execution_count": null,
   "id": "f2dd9ba0",
   "metadata": {},
   "outputs": [],
   "source": []
  }
 ],
 "metadata": {
  "kernelspec": {
   "display_name": "Python 3 (ipykernel)",
   "language": "python",
   "name": "python3"
  },
  "language_info": {
   "codemirror_mode": {
    "name": "ipython",
    "version": 3
   },
   "file_extension": ".py",
   "mimetype": "text/x-python",
   "name": "python",
   "nbconvert_exporter": "python",
   "pygments_lexer": "ipython3",
   "version": "3.9.12"
  }
 },
 "nbformat": 4,
 "nbformat_minor": 5
}
