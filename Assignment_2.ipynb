{
 "cells": [
  {
   "cell_type": "markdown",
   "id": "49b50a69",
   "metadata": {},
   "source": [
    "1.What are the two values of the Boolean data type? How do you write them?"
   ]
  },
  {
   "cell_type": "code",
   "execution_count": null,
   "id": "cdeec0c5",
   "metadata": {},
   "outputs": [],
   "source": [
    "1. True : it is the output when condition is satisfied.\n",
    "2. False : it is the output when condition is not satisfied."
   ]
  },
  {
   "cell_type": "markdown",
   "id": "aa0c559a",
   "metadata": {},
   "source": [
    "2. What are the three different types of Boolean operators?"
   ]
  },
  {
   "cell_type": "code",
   "execution_count": null,
   "id": "eb25a53b",
   "metadata": {},
   "outputs": [],
   "source": [
    "or\n",
    "and\n",
    "not"
   ]
  },
  {
   "cell_type": "markdown",
   "id": "76af3376",
   "metadata": {},
   "source": [
    "3. Make a list of each Boolean operator's truth tables (i.e. every possible combination of Boolean values for the operator and what it evaluate )."
   ]
  },
  {
   "cell_type": "code",
   "execution_count": null,
   "id": "feab7d46",
   "metadata": {},
   "outputs": [],
   "source": [
    "or :\n",
    "    True + True = True \n",
    "    True + False = True\n",
    "    False + True = True\n",
    "    False + False = False\n",
    "    \n",
    "and :\n",
    "    True + True = True\n",
    "    True + False = False\n",
    "    False + True = False\n",
    "    False + False = False\n",
    "    \n",
    "not :\n",
    "    not (True) : False\n",
    "    not (False) : True "
   ]
  },
  {
   "cell_type": "markdown",
   "id": "ec9e0906",
   "metadata": {},
   "source": [
    "4. What are the values of the following expressions?"
   ]
  },
  {
   "cell_type": "code",
   "execution_count": null,
   "id": "f4222912",
   "metadata": {},
   "outputs": [],
   "source": [
    "(5 > 4) and (3 == 5)\n",
    "(5>4) : True \n",
    "(3==5) : False\n",
    "\n",
    "True and False = False"
   ]
  },
  {
   "cell_type": "code",
   "execution_count": null,
   "id": "2e466c04",
   "metadata": {},
   "outputs": [],
   "source": [
    "not (5 > 4)\n",
    "(5>4) : True\n",
    "\n",
    "not (True) = False"
   ]
  },
  {
   "cell_type": "code",
   "execution_count": null,
   "id": "09a29658",
   "metadata": {},
   "outputs": [],
   "source": [
    "(5 > 4) or (3 == 5)\n",
    "(5>4) : True \n",
    "(3==5) : False\n",
    "\n",
    "True or False = True"
   ]
  },
  {
   "cell_type": "code",
   "execution_count": null,
   "id": "f0e2180f",
   "metadata": {},
   "outputs": [],
   "source": [
    "not ((5 > 4) or (3 == 5))\n",
    "(5>4) : True \n",
    "(3==5) : False\n",
    "\n",
    "not (True or False) = not (True)= False"
   ]
  },
  {
   "cell_type": "code",
   "execution_count": null,
   "id": "6f0a3c26",
   "metadata": {},
   "outputs": [],
   "source": [
    "(True and True) and (True == False)\n",
    "(True and True): True\n",
    "(True == False): False\n",
    "    \n",
    "True and False = False"
   ]
  },
  {
   "cell_type": "code",
   "execution_count": null,
   "id": "5b512c04",
   "metadata": {},
   "outputs": [],
   "source": [
    "(not False) or (not True)\n",
    "(not False) : True\n",
    "(not True)  : False\n",
    "    \n",
    "True or False = True"
   ]
  },
  {
   "cell_type": "markdown",
   "id": "baa1bd86",
   "metadata": {},
   "source": [
    "5. What are the six comparison operators?"
   ]
  },
  {
   "cell_type": "code",
   "execution_count": null,
   "id": "9532e937",
   "metadata": {},
   "outputs": [],
   "source": [
    " The Six Comparision Operators available in python are:\n",
    "1. ==\n",
    "2. >\n",
    "3. <\n",
    "4. <=\n",
    "5. >=\n",
    "6. !="
   ]
  },
  {
   "cell_type": "markdown",
   "id": "fb4457d7",
   "metadata": {},
   "source": [
    "6. How do you tell the difference between the equal to and assignment operators?Describe a condition and when you would use one."
   ]
  },
  {
   "cell_type": "code",
   "execution_count": null,
   "id": "cfc2e431",
   "metadata": {},
   "outputs": [],
   "source": [
    "1. assignment operator : single equal sign represents assignment operator, \n",
    "as the name suggests it is used to assign value to a variable. \n",
    "ex: a = 5\n",
    "    \n",
    "2. equal to operator : double equal-to sign represents equal-to operator, \n",
    "it compares two values and gives a boolean output usually used in conditional statement. \n",
    "ex: 5 == 6 gives False\n",
    "    as 5 is not equal to 6 the condition statement returns False."
   ]
  },
  {
   "cell_type": "markdown",
   "id": "526a6c53",
   "metadata": {},
   "source": [
    "7. Identify the three blocks in this code:\n",
    "spam = 0\n",
    "if spam == 10:\n",
    "print('eggs')\n",
    "if spam > 5:\n",
    "print('bacon')\n",
    "else:\n",
    "print('ham')\n",
    "print('spam')\n",
    "print('spam')"
   ]
  },
  {
   "cell_type": "code",
   "execution_count": 6,
   "id": "47e1c4e0",
   "metadata": {},
   "outputs": [
    {
     "name": "stdout",
     "output_type": "stream",
     "text": [
      "ham\n",
      "spam\n",
      "spam\n"
     ]
    }
   ],
   "source": [
    "#In Python, code block refers to a collection of code that is in the same block or indent. \n",
    "\n",
    "spam=0\n",
    "if spam == 10:       #block 1\n",
    "    print (\"eggs\")\n",
    "if spam > 5:         #block 2\n",
    "    print (\"bacon\")\n",
    "else:                #block 3\n",
    "    print('ham')\n",
    "    print('spam')\n",
    "    print('spam')"
   ]
  },
  {
   "cell_type": "markdown",
   "id": "6382dda4",
   "metadata": {},
   "source": [
    "8. Write code that prints Hello if 1 is stored in spam, prints Howdy if 2 is stored in spam, \n",
    "and prints Greetings! if anything else is stored in spam."
   ]
  },
  {
   "cell_type": "code",
   "execution_count": 7,
   "id": "51e8bd4f",
   "metadata": {},
   "outputs": [
    {
     "name": "stdout",
     "output_type": "stream",
     "text": [
      "Hello\n",
      "Howdy\n",
      "Greetings!\n"
     ]
    }
   ],
   "source": [
    "def spam_code(spam):\n",
    "    if spam == 1:\n",
    "        print (\"Hello\")\n",
    "    elif spam == 2:\n",
    "        print (\"Howdy\")\n",
    "    else:\n",
    "        print (\"Greetings!\")\n",
    "spam_code(1)\n",
    "spam_code(2)\n",
    "spam_code(3)"
   ]
  },
  {
   "cell_type": "markdown",
   "id": "6a74b25e",
   "metadata": {},
   "source": [
    "9.If your programme is stuck in an endless loop, what keys you’ll press?"
   ]
  },
  {
   "cell_type": "code",
   "execution_count": null,
   "id": "6f5f3031",
   "metadata": {},
   "outputs": [],
   "source": [
    "1. Double tap zero (it will restart the kernal)\n",
    "2. CTRL + C is used generally to interupt the execution. so it can also be used for stopping infinite loop."
   ]
  },
  {
   "cell_type": "markdown",
   "id": "fe2e491e",
   "metadata": {},
   "source": [
    "10. How can you tell the difference between break and continue?"
   ]
  },
  {
   "cell_type": "code",
   "execution_count": 8,
   "id": "119d2486",
   "metadata": {},
   "outputs": [
    {
     "name": "stdout",
     "output_type": "stream",
     "text": [
      "1\n",
      "2\n",
      "3\n",
      "4\n",
      "6\n",
      "7\n"
     ]
    }
   ],
   "source": [
    "#example\n",
    "for i in range(1,10):\n",
    "    if i == 5:\n",
    "        continue\n",
    "    if i== 8:\n",
    "        break\n",
    "    print (i)"
   ]
  },
  {
   "cell_type": "code",
   "execution_count": null,
   "id": "f2e04e87",
   "metadata": {},
   "outputs": [],
   "source": [
    "continue : it skips the current iteration of the loop when encountered and will move the execution to the start of the loop.\n",
    "\n",
    "break : it completely stops/interrupts the loop execution, even when the loop is not exhausted."
   ]
  },
  {
   "cell_type": "markdown",
   "id": "dacb4c6c",
   "metadata": {},
   "source": [
    "11. In a for loop, what is the difference between range(10), range(0, 10), and range(0, 10, 1)?"
   ]
  },
  {
   "cell_type": "code",
   "execution_count": null,
   "id": "6a968230",
   "metadata": {},
   "outputs": [],
   "source": [
    "in for loop there is no difference between these 3 method as all three will give same output in for loop.\n",
    "\n",
    "but for understanding purpose we can say that:\n",
    "    range(10) :- here only upperbound is specified, by default lowerbound is 0 and step size is 1.\n",
    "    range(0,10) :- here lower and upperbound is specified, by default step size is 1.\n",
    "    range(0,10,1) :- here all three parameters are specified in range function."
   ]
  },
  {
   "cell_type": "markdown",
   "id": "6bbac10d",
   "metadata": {},
   "source": [
    "12. Write a short program that prints the numbers 1 to 10 using a for loop. \n",
    "Then write an equivalent program that prints the numbers 1 to 10 using a while loop."
   ]
  },
  {
   "cell_type": "code",
   "execution_count": 11,
   "id": "febc290a",
   "metadata": {},
   "outputs": [
    {
     "name": "stdout",
     "output_type": "stream",
     "text": [
      "1 2 3 4 5 6 7 8 9 10 "
     ]
    }
   ],
   "source": [
    "#for loop\n",
    "for i in range (1,11):\n",
    "    print (i, end=\" \")"
   ]
  },
  {
   "cell_type": "code",
   "execution_count": 12,
   "id": "2c02f5df",
   "metadata": {},
   "outputs": [
    {
     "name": "stdout",
     "output_type": "stream",
     "text": [
      "1 2 3 4 5 6 7 8 9 10 "
     ]
    }
   ],
   "source": [
    "#while loop\n",
    "a=1\n",
    "b=10\n",
    "while a <= b:\n",
    "    print (a, end=\" \")\n",
    "    a=a+1"
   ]
  },
  {
   "cell_type": "markdown",
   "id": "fd98b1b1",
   "metadata": {},
   "source": [
    "13. If you had a function named bacon() inside a module named spam, how would you call it after importing spam?"
   ]
  },
  {
   "cell_type": "code",
   "execution_count": null,
   "id": "427875d6",
   "metadata": {},
   "outputs": [],
   "source": [
    "spam.bacon()"
   ]
  }
 ],
 "metadata": {
  "kernelspec": {
   "display_name": "Python 3 (ipykernel)",
   "language": "python",
   "name": "python3"
  },
  "language_info": {
   "codemirror_mode": {
    "name": "ipython",
    "version": 3
   },
   "file_extension": ".py",
   "mimetype": "text/x-python",
   "name": "python",
   "nbconvert_exporter": "python",
   "pygments_lexer": "ipython3",
   "version": "3.9.12"
  }
 },
 "nbformat": 4,
 "nbformat_minor": 5
}
